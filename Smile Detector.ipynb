{
 "cells": [
  {
   "cell_type": "markdown",
   "metadata": {},
   "source": [
    "# Smile Detector App"
   ]
  },
  {
   "cell_type": "code",
   "execution_count": 7,
   "metadata": {},
   "outputs": [],
   "source": [
    "# Import OpenCV Library & load the Haar Cascade model\n",
    "import cv2\n",
    "\n",
    "# Load the Classifier\n",
    "face_classifier = cv2.CascadeClassifier(\n",
    "    cv2.data.haarcascades + \"haarcascade_frontalface_default.xml\"\n",
    ")"
   ]
  },
  {
   "cell_type": "code",
   "execution_count": 8,
   "metadata": {},
   "outputs": [],
   "source": [
    "# Classifier for smile detection\n",
    "smile_cascade = cv2.CascadeClassifier(\n",
    "    cv2.data.haarcascades + \"haarcascade_smile.xml\"\n",
    ")"
   ]
  },
  {
   "cell_type": "code",
   "execution_count": 9,
   "metadata": {},
   "outputs": [],
   "source": [
    "# Access the webcam\n",
    "video_capture = cv2.VideoCapture(0)"
   ]
  },
  {
   "cell_type": "code",
   "execution_count": 10,
   "metadata": {},
   "outputs": [],
   "source": [
    "# Identify faces in video stream\n",
    "def detect_faces(vid):\n",
    "    gray_image =  cv2.cvtColor(vid, cv2.COLOR_BGR2GRAY)\n",
    "    faces = face_classifier.detectMultiScale(gray_image, scaleFactor=1.1, minNeighbors=5, minSize=(40, 40))\n",
    "    for (x, y, w, h) in faces:\n",
    "        cv2.circle(vid, (x + w // 2, y + h // 2), (w // 2), (0, 255, 255), 2)\n",
    "    \n",
    "        smiles = smile_cascade.detectMultiScale(gray_image, scaleFactor=1.1, minNeighbors=20, minSize=(40, 40))\n",
    "        for (sx, sy, sw, sh) in smiles:\n",
    "            num=0\n",
    "            cv2.circle(vid, (sx + sw // 2, sy + sh // 2), (sw // 2), (0, 255, 255), 2)\n",
    "            # cv2.imwrite(\"opencv\" + str(num) + \".jpg\")\n",
    "            num += 1\n",
    "    return faces, smiles"
   ]
  },
  {
   "cell_type": "code",
   "execution_count": 11,
   "metadata": {},
   "outputs": [
    {
     "ename": "UnboundLocalError",
     "evalue": "cannot access local variable 'smiles' where it is not associated with a value",
     "output_type": "error",
     "traceback": [
      "\u001b[1;31m---------------------------------------------------------------------------\u001b[0m",
      "\u001b[1;31mUnboundLocalError\u001b[0m                         Traceback (most recent call last)",
      "Cell \u001b[1;32mIn[11], line 7\u001b[0m\n\u001b[0;32m      4\u001b[0m \u001b[38;5;28;01mif\u001b[39;00m result \u001b[38;5;129;01mis\u001b[39;00m \u001b[38;5;28;01mFalse\u001b[39;00m:\n\u001b[0;32m      5\u001b[0m     \u001b[38;5;28;01mbreak\u001b[39;00m \u001b[38;5;66;03m#terminate the loop if the frame is not read successfully\u001b[39;00m\n\u001b[1;32m----> 7\u001b[0m faces  \u001b[38;5;241m=\u001b[39m detect_faces(\n\u001b[0;32m      8\u001b[0m     video_frame\n\u001b[0;32m      9\u001b[0m ) \u001b[38;5;66;03m#Apply the function we created to the video frame\u001b[39;00m\n\u001b[0;32m     11\u001b[0m cv2\u001b[38;5;241m.\u001b[39mimshow(\n\u001b[0;32m     12\u001b[0m     \u001b[38;5;124m\"\u001b[39m\u001b[38;5;124mMy Face Detector App\u001b[39m\u001b[38;5;124m\"\u001b[39m, video_frame\n\u001b[0;32m     13\u001b[0m ) \u001b[38;5;66;03m# display the processed frame in a window named \"My Face Detector App\"\u001b[39;00m\n\u001b[0;32m     15\u001b[0m \u001b[38;5;28;01mif\u001b[39;00m cv2\u001b[38;5;241m.\u001b[39mwaitKey(\u001b[38;5;241m1\u001b[39m) \u001b[38;5;241m&\u001b[39m \u001b[38;5;241m0xFF\u001b[39m \u001b[38;5;241m==\u001b[39m \u001b[38;5;28mord\u001b[39m(\u001b[38;5;124m\"\u001b[39m\u001b[38;5;124mx\u001b[39m\u001b[38;5;124m\"\u001b[39m):\n",
      "Cell \u001b[1;32mIn[10], line 14\u001b[0m, in \u001b[0;36mdetect_faces\u001b[1;34m(vid)\u001b[0m\n\u001b[0;32m     12\u001b[0m         \u001b[38;5;66;03m# cv2.imwrite(\"opencv\" + str(num) + \".jpg\")\u001b[39;00m\n\u001b[0;32m     13\u001b[0m         num \u001b[38;5;241m+\u001b[39m\u001b[38;5;241m=\u001b[39m \u001b[38;5;241m1\u001b[39m\n\u001b[1;32m---> 14\u001b[0m \u001b[38;5;28;01mreturn\u001b[39;00m faces, smiles\n",
      "\u001b[1;31mUnboundLocalError\u001b[0m: cannot access local variable 'smiles' where it is not associated with a value"
     ]
    }
   ],
   "source": [
    "# Creating a loop for real time face detection\n",
    "while True:\n",
    "    result, video_frame = video_capture.read() #read frames from the video\n",
    "    if result is False:\n",
    "        break #terminate the loop if the frame is not read successfully\n",
    "\n",
    "    faces  = detect_faces(\n",
    "        video_frame\n",
    "    ) #Apply the function we created to the video frame\n",
    "\n",
    "    cv2.imshow(\n",
    "        \"My Face Detector App\", video_frame\n",
    "    ) # display the processed frame in a window named \"My Face Detector App\"\n",
    "\n",
    "    if cv2.waitKey(1) & 0xFF == ord(\"x\"):\n",
    "        break\n",
    "        \n",
    "video_capture.release()\n",
    "cv2.destroyAllWindows()"
   ]
  }
 ],
 "metadata": {
  "kernelspec": {
   "display_name": "base",
   "language": "python",
   "name": "python3"
  },
  "language_info": {
   "codemirror_mode": {
    "name": "ipython",
    "version": 3
   },
   "file_extension": ".py",
   "mimetype": "text/x-python",
   "name": "python",
   "nbconvert_exporter": "python",
   "pygments_lexer": "ipython3",
   "version": "3.11.7"
  }
 },
 "nbformat": 4,
 "nbformat_minor": 2
}
